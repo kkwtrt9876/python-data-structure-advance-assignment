{
  "cells": [
    {
      "cell_type": "markdown",
      "source": [
        "1. Write a code to reverse a string."
      ],
      "metadata": {
        "id": "COh7r-OH6-6c"
      }
    },
    {
      "cell_type": "code",
      "execution_count": null,
      "metadata": {
        "id": "EpGikwbS3QrD",
        "outputId": "6f8f5e4e-8eba-4e50-ae28-76f21a3b4581"
      },
      "outputs": [
        {
          "data": {
            "text/plain": [
              "'drow !olleh'"
            ]
          },
          "execution_count": 2,
          "metadata": {},
          "output_type": "execute_result"
        }
      ],
      "source": [
        "string1 = \"hello! word\"\n",
        "string1[::-1]"
      ]
    },
    {
      "cell_type": "markdown",
      "metadata": {
        "id": "KkVl43E93QrE"
      },
      "source": [
        "2.Write a code to count the number of vowels in a string"
      ]
    },
    {
      "cell_type": "code",
      "execution_count": null,
      "metadata": {
        "id": "j-75O20x3QrE",
        "outputId": "67c9b0e8-a165-47b2-fc94-f1f7b1bb8120"
      },
      "outputs": [
        {
          "name": "stdout",
          "output_type": "stream",
          "text": [
            "7\n"
          ]
        }
      ],
      "source": [
        "str1 = \"hammad khan usafzai\"\n",
        "vowels = ['a','e','i','o','u']\n",
        "count = 0\n",
        "for ch in str1:\n",
        "    if ch in vowels:\n",
        "        count+=1\n",
        "\n",
        "print(count)"
      ]
    },
    {
      "cell_type": "markdown",
      "metadata": {
        "id": "N_pe36ne3QrE"
      },
      "source": [
        "3.Write a code to check if a given string is a palindrome or not"
      ]
    },
    {
      "cell_type": "code",
      "execution_count": 2,
      "metadata": {
        "colab": {
          "base_uri": "https://localhost:8080/"
        },
        "id": "fnOJU0CK3QrF",
        "outputId": "cf5af72c-f7c9-4c93-a958-77fbc166621c"
      },
      "outputs": [
        {
          "output_type": "stream",
          "name": "stdout",
          "text": [
            "enter the string :- radar\n",
            "palindrome\n"
          ]
        }
      ],
      "source": [
        "string1 = input(\"enter the string :- \").strip().lower()\n",
        "inverted_String = string1[::-1]\n",
        "if inverted_String == string1:\n",
        "    print(\"palindrome\")\n",
        "else:\n",
        "    print(\"not palindrome\")"
      ]
    },
    {
      "cell_type": "markdown",
      "metadata": {
        "id": "rU9f0VwF3QrF"
      },
      "source": [
        "4.Write a code to check if two given strings are anagrams of each other"
      ]
    },
    {
      "cell_type": "code",
      "execution_count": 4,
      "metadata": {
        "colab": {
          "base_uri": "https://localhost:8080/"
        },
        "id": "btXlk8y43QrF",
        "outputId": "44676e94-f41c-4a16-cbe8-5e1eb6a2666e"
      },
      "outputs": [
        {
          "output_type": "stream",
          "name": "stdout",
          "text": [
            "enter the string 1 :- evil\n",
            "enter the string2 :- vile\n",
            "anagram\n"
          ]
        }
      ],
      "source": [
        "str1  = input(\"enter the string 1 :- \").strip().lower()\n",
        "str2 = input(\"enter the string2 :- \").strip().lower()\n",
        "\n",
        "if sorted(str1) == sorted(str2):\n",
        "    print(\"anagram\")\n",
        "else:\n",
        "    print(\"not anagram\")"
      ]
    },
    {
      "cell_type": "markdown",
      "metadata": {
        "id": "0XtQoCe53QrG"
      },
      "source": [
        "5. Write a code to find all occurrences of a given substring within another string"
      ]
    },
    {
      "cell_type": "code",
      "execution_count": null,
      "metadata": {
        "id": "4Cb_YKGV3QrG",
        "outputId": "f21d46b9-e6eb-4776-d52e-75082f7ea672"
      },
      "outputs": [
        {
          "data": {
            "text/plain": [
              "3"
            ]
          },
          "execution_count": 7,
          "metadata": {},
          "output_type": "execute_result"
        }
      ],
      "source": [
        "str1 = \"this world is beutiful. this world has reivers and seas. this world has forests and mountains\"\n",
        "check_String = 'world'\n",
        "\n",
        "str1.count(check_String)"
      ]
    },
    {
      "cell_type": "markdown",
      "metadata": {
        "id": "Hmti7CD83QrG"
      },
      "source": [
        "6. Write a code to perform basic string compression using the counts of repeated characters"
      ]
    },
    {
      "cell_type": "code",
      "execution_count": null,
      "metadata": {
        "id": "_jwBGzg93QrG",
        "outputId": "9e3edb1d-e136-423f-b6bc-a5c47848ec89"
      },
      "outputs": [
        {
          "name": "stdout",
          "output_type": "stream",
          "text": [
            "a3b3c4d5\n"
          ]
        }
      ],
      "source": [
        "string1 = 'aaabbbccccddddd'\n",
        "set_ = set()\n",
        "for ch in string1:\n",
        "    set_.add(ch)\n",
        "\n",
        "unique_element = sorted(tuple(set_))\n",
        "compressed_string = \"\"\n",
        "for element in  unique_element:\n",
        "    count = string1.count(element)\n",
        "    compressed_string = compressed_string+element+str(count)\n",
        "\n",
        "print(compressed_string)"
      ]
    },
    {
      "cell_type": "markdown",
      "metadata": {
        "id": "b8jhSfCK3QrG"
      },
      "source": [
        "7.Write a code to determine if a string has all unique characters"
      ]
    },
    {
      "cell_type": "code",
      "execution_count": 6,
      "metadata": {
        "colab": {
          "base_uri": "https://localhost:8080/"
        },
        "id": "hOmSsbr53QrH",
        "outputId": "77e8a545-bca6-4fbf-fcb0-1b318c43aaf8"
      },
      "outputs": [
        {
          "output_type": "stream",
          "name": "stdout",
          "text": [
            "enter the string :- asif khan\n",
            "no unique characters are present, a is present 2 times\n"
          ]
        }
      ],
      "source": [
        "str1 = input(\"enter the string :- \")\n",
        "flag = 0\n",
        "for i in str1 :\n",
        "    if str1.count(i) > 1:\n",
        "        print(f\"no unique characters are present, {i} is present {str1.count(i)} times\")\n",
        "        flag  = 1\n",
        "        break\n",
        "\n",
        "if flag == 0:\n",
        "    print(\"the string has unique characters\")"
      ]
    },
    {
      "cell_type": "markdown",
      "metadata": {
        "id": "2ov2ff323QrH"
      },
      "source": [
        "8.Write a code to convert a given string to uppercase or lowercase"
      ]
    },
    {
      "cell_type": "code",
      "execution_count": 8,
      "metadata": {
        "colab": {
          "base_uri": "https://localhost:8080/"
        },
        "id": "2plobvio3QrH",
        "outputId": "1797c184-472b-4cf8-fd98-931e2b1c71ba"
      },
      "outputs": [
        {
          "output_type": "stream",
          "name": "stdout",
          "text": [
            "enter the string :- Physics wallah\n",
            "upper case string = PHYSICS WALLAH && lower case string = physics wallah\n"
          ]
        }
      ],
      "source": [
        "str1 = input(\"enter the string :- \").strip()\n",
        "\n",
        "print(f\"upper case string = {str1.upper()} && lower case string = {str1.lower()}\")"
      ]
    },
    {
      "cell_type": "markdown",
      "metadata": {
        "id": "qIEjD_aj3QrH"
      },
      "source": [
        "9.Write a code to count the number of words in a string"
      ]
    },
    {
      "cell_type": "code",
      "execution_count": 9,
      "metadata": {
        "colab": {
          "base_uri": "https://localhost:8080/"
        },
        "id": "qTNaQeuw3QrH",
        "outputId": "822c5433-462b-4079-817d-a39722336684"
      },
      "outputs": [
        {
          "output_type": "stream",
          "name": "stdout",
          "text": [
            "enter the string :- i am a student at physics wallah\n",
            "the number of words in the string are 7\n"
          ]
        }
      ],
      "source": [
        "str1 = input(\"enter the string :- \").strip().split()\n",
        "print(f\"the number of words in the string are {len(str1)}\")\n"
      ]
    },
    {
      "cell_type": "markdown",
      "metadata": {
        "id": "IPFJiJLT3QrH"
      },
      "source": [
        "10.Write a code to concatenate two strings without using the + operator"
      ]
    },
    {
      "cell_type": "code",
      "execution_count": 11,
      "metadata": {
        "colab": {
          "base_uri": "https://localhost:8080/",
          "height": 70
        },
        "id": "RnKfG90Q3QrI",
        "outputId": "e52375e6-9929-41b4-9eb1-28d997703795"
      },
      "outputs": [
        {
          "name": "stdout",
          "output_type": "stream",
          "text": [
            "enter the string1 :- welcome back\n",
            "enter the string2 :- hammad\n"
          ]
        },
        {
          "output_type": "execute_result",
          "data": {
            "text/plain": [
              "'welcome back hammad'"
            ],
            "application/vnd.google.colaboratory.intrinsic+json": {
              "type": "string"
            }
          },
          "metadata": {},
          "execution_count": 11
        }
      ],
      "source": [
        "str1 = input(\"enter the string1 :- \").strip()\n",
        "str2 = input(\"enter the string2 :- \").strip()\n",
        "\n",
        "str3 = \" \".join([str1,str2])\n",
        "str3"
      ]
    },
    {
      "cell_type": "markdown",
      "metadata": {
        "id": "EmUs_JYV3QrI"
      },
      "source": [
        "11.Write a code to remove all occurrences of a specific element from a list"
      ]
    },
    {
      "cell_type": "code",
      "execution_count": null,
      "metadata": {
        "id": "uhr3Ta543QrI",
        "outputId": "37413d8b-e8f2-47ab-b65d-d2dbed394441"
      },
      "outputs": [
        {
          "data": {
            "text/plain": [
              "[2, 3, 4, 3, 4, 2, 4, 4, 4]"
            ]
          },
          "execution_count": 25,
          "metadata": {},
          "output_type": "execute_result"
        }
      ],
      "source": [
        "list1 = [1,2,3,4,1,3,1,4,2,4,4,1,4]\n",
        "element = int(input(\"enter the element to remove\"))\n",
        "list1 = [x for x in list1 if x != element]\n",
        "list1"
      ]
    },
    {
      "cell_type": "markdown",
      "metadata": {
        "id": "RdOyXC5f3QrI"
      },
      "source": [
        "12.Implement a code to find the second largest number in a given list of integers"
      ]
    },
    {
      "cell_type": "code",
      "execution_count": null,
      "metadata": {
        "id": "vxAxP94C3QrJ",
        "outputId": "91a67371-5343-4c30-9e64-e794a434a9ea"
      },
      "outputs": [
        {
          "name": "stdout",
          "output_type": "stream",
          "text": [
            "the first largest element was 111.\n",
            "the second largest element is 99\n"
          ]
        }
      ],
      "source": [
        "list1 = [1,2,3,2,55,66,11,99,55,22,98,99,111,55]\n",
        "element = max(list1)\n",
        "list1 = [x for x in list1 if x != element]\n",
        "print(f\"the first largest element was {element}.\\nthe second largest element is {max(list1)}\")"
      ]
    },
    {
      "cell_type": "markdown",
      "metadata": {
        "id": "B4fRpSUB3QrJ"
      },
      "source": [
        "13.Create a code to count the occurrences of each element in a list and return a dictionary with elements as\n",
        "keys and their counts as values"
      ]
    },
    {
      "cell_type": "code",
      "execution_count": null,
      "metadata": {
        "id": "5czk8Ill3QrJ",
        "outputId": "c6a01dc9-5928-4146-d3ec-93138d645714"
      },
      "outputs": [
        {
          "name": "stdout",
          "output_type": "stream",
          "text": [
            "1 --> 1\n",
            "2 --> 2\n",
            "3 --> 1\n",
            "55 --> 3\n",
            "66 --> 1\n",
            "11 --> 1\n",
            "99 --> 2\n",
            "22 --> 1\n",
            "98 --> 1\n",
            "111 --> 1\n"
          ]
        }
      ],
      "source": [
        "list1 = [1,2,3,2,55,66,11,99,55,22,98,99,111,55]\n",
        "diction = {}\n",
        "for element in list1:\n",
        "    diction[element] = list1.count(element)\n",
        "\n",
        "for key  in diction:\n",
        "    print(f\"{key} --> {diction[key]}\")"
      ]
    },
    {
      "cell_type": "markdown",
      "metadata": {
        "id": "cBbvJpLK3QrJ"
      },
      "source": [
        "14. Write a code to reverse a list in-place without using any built-in reverse functions"
      ]
    },
    {
      "cell_type": "code",
      "execution_count": null,
      "metadata": {
        "id": "iOs4uAHr3QrJ",
        "outputId": "c48c159b-08bd-425d-e9d3-290b17f76c53"
      },
      "outputs": [
        {
          "data": {
            "text/plain": [
              "['d', 'c', 'b', 'a']"
            ]
          },
          "execution_count": 33,
          "metadata": {},
          "output_type": "execute_result"
        }
      ],
      "source": [
        "list = ['a','b','c','d']\n",
        "list = list[::-1]\n",
        "list"
      ]
    },
    {
      "cell_type": "markdown",
      "metadata": {
        "id": "cv54nrwX3QrK"
      },
      "source": [
        "15. Implement a code to find and remove duplicates from a list while preserving the original order of\n",
        "elements"
      ]
    },
    {
      "cell_type": "code",
      "execution_count": 12,
      "metadata": {
        "colab": {
          "base_uri": "https://localhost:8080/"
        },
        "id": "gZi-Piun3QrK",
        "outputId": "468d18c1-6b1b-4ddf-9812-1e655b391aa1"
      },
      "outputs": [
        {
          "output_type": "execute_result",
          "data": {
            "text/plain": [
              "[1, 2, 3, 55, 66, 11, 99, 22, 98, 111]"
            ]
          },
          "metadata": {},
          "execution_count": 12
        }
      ],
      "source": [
        "list1 = [1,2,3,2,55,66,11,99,55,1,3,22,98,99,111,55]\n",
        "diction = {}\n",
        "for element in list1:\n",
        "    diction[element] = 0\n",
        "\n",
        "list1 = list(diction.keys())\n",
        "list1\n"
      ]
    },
    {
      "cell_type": "markdown",
      "metadata": {
        "id": "6OXjuYgK3QrK"
      },
      "source": [
        "16. Create a code to check if a given list is sorted (either in ascending or descending order) or not"
      ]
    },
    {
      "cell_type": "code",
      "execution_count": null,
      "metadata": {
        "id": "cpcjah4q3QrK",
        "outputId": "93637701-2365-4759-a3d2-e9e7053a905c"
      },
      "outputs": [
        {
          "name": "stdout",
          "output_type": "stream",
          "text": [
            "the list1 is sorted in assending order\n",
            "the list2 is sorted in descending order\n",
            "the list3 is not sorted\n",
            "the list4 is not sorted\n"
          ]
        }
      ],
      "source": [
        "diction = {\n",
        "'list1' : [1,2,3,4,5,6,7,8,9,10],\n",
        "'list2' : [10,9,8,7,6,5,4,3,2,1],\n",
        "'list3' : [10,9,8,7,6,5,4,3,2,1,11],\n",
        "'list4' : [1,2,3,4,5,6,7,8,9,10,3],\n",
        "}\n",
        "\n",
        "for list in diction:\n",
        "    diction_list = diction[list]\n",
        "    list5 = diction_list.copy()\n",
        "\n",
        "    if sorted(list5) == diction_list:\n",
        "        print(f\"the {list} is sorted in assending order\")\n",
        "    elif sorted(list5 , reverse=True) == diction_list:\n",
        "        print(f\"the {list} is sorted in descending order\")\n",
        "    else:\n",
        "        print(f\"the {list} is not sorted\")\n",
        "\n",
        "\n"
      ]
    },
    {
      "cell_type": "markdown",
      "metadata": {
        "id": "MXfU5jGG3QrK"
      },
      "source": [
        "17. Write a code to merge two sorted lists into a single sorted list"
      ]
    },
    {
      "cell_type": "code",
      "execution_count": null,
      "metadata": {
        "id": "HEW_v9kw3QrL",
        "outputId": "8ad79db9-8724-4091-bc09-efe597d1dfbc"
      },
      "outputs": [
        {
          "data": {
            "text/plain": [
              "[1, 1, 2, 3, 3, 5, 7, 7, 9, 11, 34, 56, 99]"
            ]
          },
          "execution_count": 54,
          "metadata": {},
          "output_type": "execute_result"
        }
      ],
      "source": [
        "list1 = [1,5,7,2,9,3,7]\n",
        "list2 = [99,1,56,34,3,11]\n",
        "list1 = sorted(list1)\n",
        "list2 = sorted(list2)\n",
        "list3 = sorted(list1 + list2)\n",
        "list3"
      ]
    },
    {
      "cell_type": "markdown",
      "metadata": {
        "id": "-sg-AjqU3QrL"
      },
      "source": [
        "18. Implement a code to find the intersection of two given lists"
      ]
    },
    {
      "cell_type": "code",
      "execution_count": null,
      "metadata": {
        "id": "KHz1xnQj3QrL",
        "outputId": "2005e117-84e1-4cdb-ad7c-4d029a25a281"
      },
      "outputs": [
        {
          "data": {
            "text/plain": [
              "[1, 3]"
            ]
          },
          "execution_count": 56,
          "metadata": {},
          "output_type": "execute_result"
        }
      ],
      "source": [
        "list1 = [1,5,7,2,9,3,7]\n",
        "list2 = [99,1,56,34,3,11]\n",
        "intersection = []\n",
        "for element in list1 :\n",
        "    if element in list2:\n",
        "        intersection.append(element)\n",
        "\n",
        "intersection"
      ]
    },
    {
      "cell_type": "markdown",
      "metadata": {
        "id": "0sQIrE533QrL"
      },
      "source": [
        "19. Create a code to find the union of two lists without duplicates"
      ]
    },
    {
      "cell_type": "code",
      "execution_count": null,
      "metadata": {
        "id": "gBbyiVkv3QrL",
        "outputId": "f32a5d04-32e6-41a6-db64-f31a96b2f299"
      },
      "outputs": [
        {
          "data": {
            "text/plain": [
              "{1, 2, 3, 5, 7, 9, 11, 34, 56, 99}"
            ]
          },
          "execution_count": 61,
          "metadata": {},
          "output_type": "execute_result"
        }
      ],
      "source": [
        "list1 = [1,5,7,2,9,99,3,7]\n",
        "list2 = [99,1,56,34,3,7,11]\n",
        "list1.extend(list2)\n",
        "set_ = set()\n",
        "for element in list1:\n",
        "    set_.add(element)\n",
        "\n",
        "set_\n",
        ""
      ]
    },
    {
      "cell_type": "markdown",
      "metadata": {
        "id": "QQjK6ICX3QrM"
      },
      "source": [
        "20. Write a code to shuffle a given list randomly without using any built-in shuffle functions"
      ]
    },
    {
      "cell_type": "code",
      "execution_count": null,
      "metadata": {
        "id": "0SMuwlnR3QrQ",
        "outputId": "91226901-dc6d-4b02-95fa-f04bd537c90d"
      },
      "outputs": [
        {
          "name": "stdout",
          "output_type": "stream",
          "text": [
            "the orignal list is [1, 5, 7, 2, 9, 99, 3, 7]\n",
            "the shuffled list is :- [5, 9, 7, 99, 7, 2, 1, 3]\n"
          ]
        }
      ],
      "source": [
        "import random\n",
        "list1 = [1,5,7,2,9,99,3,7]\n",
        "\n",
        "print(f\"the orignal list is {list1}\")\n",
        "\n",
        "for i in range(len(list1)):\n",
        "    index = random.randint(0,len(list1) - 1)\n",
        "    temp = list1[i]\n",
        "    list1[i] = list1[index]\n",
        "    list1[index] = temp\n",
        "\n",
        "print(f\"the shuffled list is :- {list1}\")\n",
        "\n"
      ]
    },
    {
      "cell_type": "markdown",
      "metadata": {
        "id": "oc3uzL7Y3QrQ"
      },
      "source": [
        "21. Write a code that takes two tuples as input and returns a new tuple containing elements that are\n",
        "common to both input tuples"
      ]
    },
    {
      "cell_type": "code",
      "execution_count": null,
      "metadata": {
        "id": "eYONhHLE3QrQ",
        "outputId": "848127aa-1854-4c4d-b3db-75396c8ac6a0"
      },
      "outputs": [
        {
          "data": {
            "text/plain": [
              "(3, 1, 99, 7)"
            ]
          },
          "execution_count": 84,
          "metadata": {},
          "output_type": "execute_result"
        }
      ],
      "source": [
        "tuple1 = (1,5,7,2,9,99,3,7)\n",
        "tuple2 = (99,1,56,34,3,7,11)\n",
        "set1 = set(tuple1)\n",
        "set2 = set(tuple2)\n",
        "tuple3 = tuple(set1 & set2)\n",
        "tuple3"
      ]
    },
    {
      "cell_type": "markdown",
      "metadata": {
        "id": "uN8nkX7e3QrR"
      },
      "source": [
        "22. Create a code that prompts the user to enter two sets of integers separated by commas. Then, print the\n",
        "intersection of these two sets"
      ]
    },
    {
      "cell_type": "code",
      "execution_count": 13,
      "metadata": {
        "colab": {
          "base_uri": "https://localhost:8080/"
        },
        "id": "e0SqLz8d3QrR",
        "outputId": "1413e1ab-904d-4fc7-fb0a-afa9447e90ca"
      },
      "outputs": [
        {
          "name": "stdout",
          "output_type": "stream",
          "text": [
            "enter the set 1 :- 1,2,3,4,5,99\n",
            "enter the set2 :- 3,78,2\n"
          ]
        },
        {
          "output_type": "execute_result",
          "data": {
            "text/plain": [
              "{'2', '3'}"
            ]
          },
          "metadata": {},
          "execution_count": 13
        }
      ],
      "source": [
        "set1 = set(input(\"enter the set 1 :- \").strip().split(','))\n",
        "set2 = set(input(\"enter the set2 :- \").strip().split(','))\n",
        "set1 & set2"
      ]
    },
    {
      "cell_type": "markdown",
      "metadata": {
        "id": "XIEjo6mQ3QrR"
      },
      "source": [
        "23. Write a code to concatenate two tuples. The function should take two tuples as input and return a new\n",
        "tuple containing elements from both input tuples."
      ]
    },
    {
      "cell_type": "code",
      "execution_count": null,
      "metadata": {
        "id": "0i0hg-Lm3QrR",
        "outputId": "75e0cd17-a9b2-4472-cfbc-1e086cce2665"
      },
      "outputs": [
        {
          "name": "stdout",
          "output_type": "stream",
          "text": [
            "(1, 5, 7, 2, 9, 99, 3, 7, 99, 1, 56, 34, 3, 7, 11)\n"
          ]
        }
      ],
      "source": [
        "def concat_tuple(tup, tup2):\n",
        "    tuple3 = tup+tup2\n",
        "    return tuple3\n",
        "\n",
        "tuple1 = (1,5,7,2,9,99,3,7)\n",
        "tuple2 = (99,1,56,34,3,7,11)\n",
        "\n",
        "print(concat_tuple(tuple1,tuple2))"
      ]
    },
    {
      "cell_type": "markdown",
      "metadata": {
        "id": "M4RMPTBl3QrR"
      },
      "source": [
        "24. Develop a code that prompts the user to input two sets of strings. Then, print the elements that are\n",
        "present in the first set but not in the second set"
      ]
    },
    {
      "cell_type": "code",
      "execution_count": 16,
      "metadata": {
        "colab": {
          "base_uri": "https://localhost:8080/"
        },
        "id": "edBfufaF3QrS",
        "outputId": "8816f4bb-5aab-4d30-cf9a-cb628d0cb093"
      },
      "outputs": [
        {
          "name": "stdout",
          "output_type": "stream",
          "text": [
            "enter the first string :- hammad is a student\n",
            "enter the second string :- asif is not a student\n"
          ]
        },
        {
          "output_type": "execute_result",
          "data": {
            "text/plain": [
              "{'hammad'}"
            ]
          },
          "metadata": {},
          "execution_count": 16
        }
      ],
      "source": [
        "string1 = set(input(\"enter the first string :- \").strip().split())\n",
        "string2 = set(input(\"enter the second string :- \").strip().split())\n",
        "string1 - string2"
      ]
    },
    {
      "cell_type": "markdown",
      "metadata": {
        "id": "608Zc0kQ3QrS"
      },
      "source": [
        "25. Create a code that takes a tuple and two integers as input. The function should return a new tuple\n",
        "containing elements from the original tuple within the specified range of indices"
      ]
    },
    {
      "cell_type": "code",
      "execution_count": 17,
      "metadata": {
        "colab": {
          "base_uri": "https://localhost:8080/"
        },
        "id": "Wl-sNRJX3QrS",
        "outputId": "c251f9c5-a848-4b3e-9d62-5270985b2f1b"
      },
      "outputs": [
        {
          "output_type": "stream",
          "name": "stdout",
          "text": [
            "enter the start index :- 2\n",
            "enter the end index :- 7\n",
            "(3, 4, 5, 6, 7)\n"
          ]
        }
      ],
      "source": [
        "tuple = (1,2,3,4,5,6,7,8,9,10)\n",
        "input1 = int(input(\"enter the start index :- \"))\n",
        "input2 = int(input(\"enter the end index :- \"))\n",
        "\n",
        "if input1 <0 or input1 >= len(tuple):\n",
        "    print(\"wrong input\")\n",
        "elif input2 >= len(tuple) or input2 < 0:\n",
        "    print(\"index out of range\")\n",
        "else:\n",
        "    print(tuple[input1:input2])\n"
      ]
    },
    {
      "cell_type": "markdown",
      "metadata": {
        "id": "d4sLFQ2w3QrS"
      },
      "source": [
        "26. Write a code that prompts the user to input two sets of characters. Then, print the union of these two sets"
      ]
    },
    {
      "cell_type": "code",
      "execution_count": 18,
      "metadata": {
        "colab": {
          "base_uri": "https://localhost:8080/"
        },
        "id": "xFw5e08Y3QrS",
        "outputId": "550ac097-6c3d-423b-a43a-136c01f7adae"
      },
      "outputs": [
        {
          "name": "stdout",
          "output_type": "stream",
          "text": [
            "enter the set1 of characters seperatted by commas:-a,b,x,s\n",
            "enter the set2 of characters seperatted by commas:-x,y,a\n"
          ]
        },
        {
          "output_type": "execute_result",
          "data": {
            "text/plain": [
              "{'a', 'b', 's', 'x', 'y'}"
            ]
          },
          "metadata": {},
          "execution_count": 18
        }
      ],
      "source": [
        "set1 = set(input(\"enter the set1 of characters seperatted by commas:-\").strip().split(','))\n",
        "set2 = set(input(\"enter the set2 of characters seperatted by commas:-\").strip().split(','))\n",
        "set1 | set2"
      ]
    },
    {
      "cell_type": "markdown",
      "metadata": {
        "id": "HdqXhAV_3QrS"
      },
      "source": [
        "27. Develop a code that takes a tuple of integers as input. The function should return the maximum and\n",
        "minimum values from the tuple using tuple unpacking|"
      ]
    },
    {
      "cell_type": "code",
      "execution_count": null,
      "metadata": {
        "id": "G5-F1LUf3QrT",
        "outputId": "5eeeb152-dd92-4c8e-8839-538bcb85c90d"
      },
      "outputs": [
        {
          "name": "stdout",
          "output_type": "stream",
          "text": [
            "the maximim value is 111 the smalles value is 0\n"
          ]
        }
      ],
      "source": [
        "tuple1 = (1,2,3,44,0,5,6,2,1,111)\n",
        "first , *middle , last = sorted(tuple1)\n",
        "print(f\"the maximim value is {last} the smalles value is {first}\")\n",
        "\n"
      ]
    },
    {
      "cell_type": "markdown",
      "metadata": {
        "id": "1to7BdHX3QrT"
      },
      "source": [
        "28. Create a code that defines two sets of integers. Then, print the union, intersection, and difference of these\n",
        "two sets"
      ]
    },
    {
      "cell_type": "code",
      "execution_count": null,
      "metadata": {
        "id": "EeXuqZK83QrT",
        "outputId": "5cb03350-06c8-4d42-ec80-c5910436a1fa"
      },
      "outputs": [
        {
          "name": "stdout",
          "output_type": "stream",
          "text": [
            "union :- {1, 2, 3, 4, 5, 33, 11, 12, 76, 14, 87, 55}\n",
            "intersection :- {2, 3, 4, 5, 11}\n",
            "difference :- {1, 33, 12, 14, 55}\n"
          ]
        }
      ],
      "source": [
        "set1 = set([1,2,3,4,5,11,12,14,55,33])\n",
        "set2 = set([5,3,2,87,4,3,2,76,11])\n",
        "\n",
        "print(f\"union :- {set1 | set2}\\nintersection :- {set1 & set2}\\ndifference :- {set1 - set2}\")"
      ]
    },
    {
      "cell_type": "markdown",
      "metadata": {
        "id": "tUZczrgu3QrT"
      },
      "source": [
        "29. Write a code that takes a tuple and an element as input. The function should return the count of\n",
        "occurrences of the given element in the tuple"
      ]
    },
    {
      "cell_type": "code",
      "execution_count": null,
      "metadata": {
        "id": "6eLvpv5c3QrT",
        "outputId": "c3bae8fd-1a26-4f7a-9d18-9d1f2256e7ca"
      },
      "outputs": [
        {
          "data": {
            "text/plain": [
              "3"
            ]
          },
          "execution_count": 18,
          "metadata": {},
          "output_type": "execute_result"
        }
      ],
      "source": [
        "tuple1 = (1,2,3,44,0,5,6,2,1,111,2)\n",
        "tuple1.count(2)"
      ]
    },
    {
      "cell_type": "markdown",
      "metadata": {
        "id": "Hu_lz2FO3QrU"
      },
      "source": [
        "30. Develop a code that prompts the user to input two sets of strings. Then, print the symmetric difference of\n",
        "these two sets"
      ]
    },
    {
      "cell_type": "code",
      "execution_count": 19,
      "metadata": {
        "colab": {
          "base_uri": "https://localhost:8080/"
        },
        "id": "C3p9UhKF3QrU",
        "outputId": "22413619-6906-46be-ea20-3a5cf0653204"
      },
      "outputs": [
        {
          "output_type": "stream",
          "name": "stdout",
          "text": [
            "enter the string 1 :- hello hammad. you study data\n",
            "enter the string 2 :- welcome hammad. are you fine\n",
            "{'hello', 'are', 'welcome', 'data', 'study', 'fine'}\n"
          ]
        }
      ],
      "source": [
        "set1 = set(input(\"enter the string 1 :- \").strip().split())\n",
        "set2 = set(input(\"enter the string 2 :- \").strip().split())\n",
        "print(set1^set2)"
      ]
    },
    {
      "cell_type": "markdown",
      "metadata": {
        "id": "h-Ey21753QrU"
      },
      "source": [
        "31. Write a code that takes a list of words as input and returns a dictionary where the keys are unique words\n",
        "and the values are the frequencies of those words in the input list"
      ]
    },
    {
      "cell_type": "code",
      "execution_count": null,
      "metadata": {
        "id": "BZE05JRy3QrU",
        "outputId": "339a97df-b852-4d2c-bfae-ac5c5dd66a5e"
      },
      "outputs": [
        {
          "name": "stdout",
          "output_type": "stream",
          "text": [
            "apple --> 3\n",
            "banana --> 2\n",
            "orange --> 1\n",
            "grape --> 1\n"
          ]
        }
      ],
      "source": [
        "words = [\"apple\", \"banana\", \"apple\", \"orange\", \"banana\", \"grape\", \"apple\"]\n",
        "diction = {}\n",
        "for element in words:\n",
        "    diction[element] = words.count(element)\n",
        "\n",
        "for key in diction:\n",
        "    print(f\"{key} --> {diction[key]}\")"
      ]
    },
    {
      "cell_type": "markdown",
      "metadata": {
        "id": "GTQTznIw3QrU"
      },
      "source": [
        "32. Write a code that takes two dictionaries as input and merges them into a single dictionary. If there are\n",
        "common keys, the values should be added together"
      ]
    },
    {
      "cell_type": "code",
      "execution_count": null,
      "metadata": {
        "id": "PzgKxl4C3QrU",
        "outputId": "a9bc9822-858b-45eb-e4b9-23b3e07237fd"
      },
      "outputs": [
        {
          "name": "stdout",
          "output_type": "stream",
          "text": [
            "banana ---> 6\n",
            "kiwi ---> 1\n",
            "apple ---> 5\n",
            "orange ---> 5\n"
          ]
        }
      ],
      "source": [
        "dict1 = {'apple': 3, 'banana': 2, 'orange': 5}\n",
        "dict2 = {'banana': 4, 'kiwi': 1, 'apple': 2}\n",
        "\n",
        "for key in dict1 :\n",
        "    if key in dict2:\n",
        "        dict2[key] = dict2[key] + dict1[key]\n",
        "    else:\n",
        "        dict2[key] = dict1[key]\n",
        "\n",
        "for key in dict2 :\n",
        "    print(f\"{key} ---> {dict2[key]}\")\n"
      ]
    },
    {
      "cell_type": "markdown",
      "metadata": {
        "id": "3d4IbEsh3QrV"
      },
      "source": [
        "33. Write a code to access a value in a nested dictionary. The function should take the dictionary and a list of\n",
        "keys as input, and return the corresponding value. If any of the keys do not exist in the dictionary, the\n",
        "function should return None"
      ]
    },
    {
      "cell_type": "code",
      "execution_count": null,
      "metadata": {
        "id": "3a9i0IPl3QrV",
        "outputId": "8c49f734-b5bc-47f3-f130-6cf9d6267253"
      },
      "outputs": [
        {
          "name": "stdout",
          "output_type": "stream",
          "text": [
            "42\n",
            "99\n"
          ]
        }
      ],
      "source": [
        "def funct(dict , keys):\n",
        "    diction = dict\n",
        "    for key in keys:\n",
        "        if key in diction:\n",
        "            diction = diction[key]\n",
        "        else:\n",
        "            return None\n",
        "\n",
        "    return diction\n",
        "\n",
        "nested_dict = {\n",
        "    'a': {\n",
        "        'b': {\n",
        "            'c': 42\n",
        "        }\n",
        "    },\n",
        "    'x': {\n",
        "        'y': {\n",
        "            'z': 99\n",
        "        }\n",
        "    }\n",
        "}\n",
        "\n",
        "keys = ['a','b','c']\n",
        "\n",
        "print(funct(nested_dict,keys))\n",
        "\n",
        "keys = ['x','y','z']\n",
        "\n",
        "print(funct(nested_dict,keys))\n"
      ]
    },
    {
      "cell_type": "markdown",
      "metadata": {
        "id": "7UY4Fz9v3QrV"
      },
      "source": [
        "34. Write a code that takes a dictionary as input and returns a sorted version of it based on the values. You\n",
        "can choose whether to sort in ascending or descending order"
      ]
    },
    {
      "cell_type": "code",
      "execution_count": null,
      "metadata": {
        "id": "uP02sigv3QrV",
        "outputId": "cc727d10-5535-4ec6-b7de-2f2b575ee9a9"
      },
      "outputs": [
        {
          "data": {
            "text/plain": [
              "{'b': 1, 'd': 2, 'c': 7, 'a': 11}"
            ]
          },
          "execution_count": 47,
          "metadata": {},
          "output_type": "execute_result"
        }
      ],
      "source": [
        "dict1 = {'a':11,'b':1,'c':7,'d':2}\n",
        "values = list(sorted(dict1.values()))\n",
        "\n",
        "for index , element in enumerate(values):\n",
        "    for key in dict1:\n",
        "        if dict1[key] == element:\n",
        "            keys[index] = key\n",
        "\n",
        "sorted_dict = {x:y for x,y in zip(keys,values)}\n",
        "sorted_dict\n",
        "\n",
        ""
      ]
    },
    {
      "cell_type": "markdown",
      "metadata": {
        "id": "u3eE37V_3QrW"
      },
      "source": [
        "35. Write a code that inverts a dictionary, swapping keys and values. Ensure that the inverted dictionary\n",
        "correctly handles cases where multiple keys have the same value by storing the keys as a list in the\n",
        "inverted dictionary"
      ]
    },
    {
      "cell_type": "code",
      "execution_count": null,
      "metadata": {
        "id": "4f-vXNmK3QrW",
        "outputId": "502beb26-04b5-436c-a4c1-1d5db76f51f8"
      },
      "outputs": [
        {
          "name": "stdout",
          "output_type": "stream",
          "text": [
            "{1: ['apple', 'orange'], 2: ['banana', 'mango'], 3: ['kiwi']}\n"
          ]
        }
      ],
      "source": [
        "\n",
        "original_dict = {\n",
        "    'apple': 1,\n",
        "    'banana': 2,\n",
        "    'orange': 1,\n",
        "    'kiwi': 3,\n",
        "    'mango': 2\n",
        "}\n",
        "\n",
        "inverted_diction = {}\n",
        "for keys in original_dict:\n",
        "    value = original_dict[keys]\n",
        "    if value in inverted_diction:\n",
        "        inverted_diction[value].append(keys)\n",
        "    else:\n",
        "        inverted_diction[value] = [keys]\n",
        "\n",
        "\n",
        "print(inverted_diction)"
      ]
    },
    {
      "cell_type": "code",
      "execution_count": null,
      "metadata": {
        "id": "5uu8ftF43QrW"
      },
      "outputs": [],
      "source": []
    }
  ],
  "metadata": {
    "kernelspec": {
      "display_name": "Python 3",
      "language": "python",
      "name": "python3"
    },
    "language_info": {
      "codemirror_mode": {
        "name": "ipython",
        "version": 3
      },
      "file_extension": ".py",
      "mimetype": "text/x-python",
      "name": "python",
      "nbconvert_exporter": "python",
      "pygments_lexer": "ipython3",
      "version": "3.10.12"
    },
    "colab": {
      "provenance": []
    }
  },
  "nbformat": 4,
  "nbformat_minor": 0
}